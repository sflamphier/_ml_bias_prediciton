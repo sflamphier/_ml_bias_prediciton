{
 "cells": [
  {
   "cell_type": "code",
   "execution_count": null,
   "id": "8055c99a-5c2b-47f2-afa7-c523e838b44e",
   "metadata": {},
   "outputs": [],
   "source": [
    "'''\n",
    "Hello!\n",
    "    My name is Sophie, and this is my first time attempting to train a machine learning model. \n",
    "    I have only trained this model on 198 data points making the accuracy pretty rough, but this project is really\n",
    "    just about me learning the ML process and experimenting.\n",
    "    My hope for this program is to allow people to input tweets/text from their trusted news outlets/sources to see if they may\n",
    "    be politically skewed or biased. In determining if a trusted news source is consistently producing \"0\" or biased content, \n",
    "    my hope is that users will look for less biased sources to form more educated and well-rounded beliefs/opinions.\n",
    "\n",
    "'''"
   ]
  },
  {
   "cell_type": "code",
   "execution_count": 1,
   "id": "805ff5ca-f785-48b9-8a51-8bfba9666495",
   "metadata": {},
   "outputs": [],
   "source": [
    "# Preprocessing Code"
   ]
  },
  {
   "cell_type": "code",
   "execution_count": 2,
   "id": "b4edcae3-8b1d-435f-adea-18e823020d1e",
   "metadata": {},
   "outputs": [
    {
     "name": "stdout",
     "output_type": "stream",
     "text": [
      "NumPy version: 1.26.4\n",
      "TensorFlow version: 2.18.0\n"
     ]
    }
   ],
   "source": [
    "import numpy as np\n",
    "import tensorflow as tf\n",
    "import matplotlib.pyplot as plt\n",
    "\n",
    "print(\"NumPy version:\", np.__version__)\n",
    "print(\"TensorFlow version:\", tf.__version__)\n"
   ]
  },
  {
   "cell_type": "code",
   "execution_count": 3,
   "id": "873de45b-6fca-4358-ae01-384b5a105b06",
   "metadata": {},
   "outputs": [
    {
     "name": "stdout",
     "output_type": "stream",
     "text": [
      "[b'i cant wait to watch you fade into obscurity when you go to prison'\n",
      " b'presidentelect trump has picked karoline leavitt to be white house press secretary'\n",
      " b'could vice president kamala harris make a run for california governor in  years'\n",
      " b'brazils first lady aims explicit joke at key target of husbands administration fk you elon musk'\n",
      " b'the rest of american people who can wake up will soon   soon the left will go back to war with reality and use all of the same smearfear tactics that will no longer work as good things begin to happen with this team the democrats will become the complete parody of themselves just as the msm has become the rest have been so abused that they are trapped in the fear of the party']\n",
      "[0 1 1 0 0]\n"
     ]
    },
    {
     "name": "stderr",
     "output_type": "stream",
     "text": [
      "2024-12-09 19:26:23.062049: I tensorflow/core/framework/local_rendezvous.cc:405] Local rendezvous is aborting with status: OUT_OF_RANGE: End of sequence\n"
     ]
    }
   ],
   "source": [
    "import pandas as pd\n",
    "import re\n",
    "\n",
    "# Load the dataset\n",
    "dataset = pd.read_csv(\"Tweet_Training_Dataset.csv\")\n",
    "\n",
    "# Rename and clean columns (replace with appropriate column names if needed)\n",
    "dataset.columns = ['text', 'label']\n",
    "\n",
    "# Text preprocessing function\n",
    "def preprocess_text(text):\n",
    "    text = text.lower()  # Convert text to lowercase\n",
    "    text = re.sub(r'http\\S+|www\\S+|https\\S+', '', text)  # Remove URLs\n",
    "    text = re.sub(r'\\@\\w+|\\#\\w+|[^A-Za-z\\s]', '', text)  # Remove special chars\n",
    "    return text.strip()\n",
    "\n",
    "# In the preprocessing step, I'm removing special characters with [^A-Za-z\\s]. This removes punctuation like ! or ?, which may carry sentiment. I may consider retaining such characters...\n",
    "\n",
    "# Apply preprocessing\n",
    "dataset['text'] = dataset['text'].apply(preprocess_text)\n",
    "\n",
    "# Convert to TensorFlow dataset\n",
    "tf_dataset = tf.data.Dataset.from_tensor_slices((dataset['text'].values, dataset['label'].values))\n",
    "\n",
    "# Shuffle, batch, and prefetch the dataset\n",
    "BATCH_SIZE = 32\n",
    "AUTOTUNE = tf.data.AUTOTUNE\n",
    "tf_dataset = tf_dataset.shuffle(len(dataset)).batch(BATCH_SIZE).prefetch(buffer_size=AUTOTUNE)\n",
    "\n",
    "# Check a sample batch\n",
    "for text_batch, label_batch in tf_dataset.take(1):\n",
    "    print(text_batch.numpy()[:5])\n",
    "    print(label_batch.numpy()[:5])\n"
   ]
  },
  {
   "cell_type": "code",
   "execution_count": 4,
   "id": "f346dc27-1455-4bff-8343-d36a0f14ea3b",
   "metadata": {},
   "outputs": [
    {
     "name": "stdout",
     "output_type": "stream",
     "text": [
      "Dataset shape: (198, 2)\n",
      "Number of batches: 7\n",
      "Text batch sample: [b'more than a dozen republicans who were fake electors in  will serve as official trump electors in battleground states this year'\n",
      " b'ukraine has fired usmade longrange missiles into russias bryansk region russian state media reports'\n",
      " b'thats right virginia ag \\n\\n r shares his nobrainer prediction for the trump presidency explaining how the incoming administration will be fundamentally different from president bidens read more'\n",
      " b'im grateful i was able to do my part to save our country by helping to get you elected'\n",
      " b'kamala harris and donald trump remain neck and neck in georgia and north carolina where most likely voters have already cast ballots according to new cnn polls'\n",
      " b'barely alive from new york snl ratings tanked during  election season report'\n",
      " b'the biden white houses decisionmaking has been horrendous every step of the way'\n",
      " b'as soon as tomorrow the house will vote on a bill that would give the incoming trump administration a new tool they could use to stifle free speech target political opponents and punish groups that disagree with them'\n",
      " b'brazils first lady aims explicit joke at key target of husbands administration fk you elon musk'\n",
      " b'barack obama has a message for black men who are considering voting for donald trump instead of kamala harris thats not acceptable'\n",
      " b'in other news hakeem jeffries katherine clark and pete aguilar were all elected back to their democratic leadership positions for the th congress'\n",
      " b'case dismissed smith previously signaled that he would begin winding down his case against trump who pleaded not guilty to all charges and took his fight to the supreme court'\n",
      " b'presidentelect donald trump has chosen chris wright for energy secretary and to serve on the newly formed council of national energy'\n",
      " b'the electoral college shouldnt exist'\n",
      " b'trump support dominates weekend in sports as athletes perform presidentelects dance moves'\n",
      " b'i like my suitcase videos of future first son barron trump speaking in a slovenian accent as a young boy are spreading like wildfire on social media after his fathers massive electoral win'\n",
      " b'here is a precinct map of the  presidential election in wayne county michigan based on harris vs trump numbers\\n\\n kamala harris d  votes \\n donald trump r  votes \\n others  votes'\n",
      " b'two new wars that sparked under bidens term is his return to normal'\n",
      " b'strong beautiful and intelligent women say trump'\n",
      " b'israeli cabinet will vote on ceasefire deal with hezbollah tuesday netanyahus spokesperson tells cnn'\n",
      " b'white house yet to release visitor logs for month biden dropped out of race'\n",
      " b'breaking trump appoints dr oz to key hhs position in new administration'\n",
      " b'breaking israel moves toward ceasefire deal with hezbollah reports'\n",
      " b'liberal polling disaster pollster admits massive failure in biased trump election survey'\n",
      " b'trump is locked in and kamala is just laughing wtf is this debate'\n",
      " b'vote for the man who isnt running for office because he wants money or power hes running to save our country vote for president trump today'\n",
      " b'there is one transgender member of congress out of'\n",
      " b'dream team presidentelect trump picks north dakota governor doug burgum and ceo chris wright to make american energy independent see the industrys wishlist of top priorities at the link'\n",
      " b'here is a precinct map of the  presidential election in southwest metro detroit michigan based on harris vs trump numbers\\n\\n kamala harris d  votes \\n donald trump r  votes \\n others  votes'\n",
      " b'a white house aide described getting trump a diet coke so he could watch the january  riot on tv new documents released by the special counsel show'\n",
      " b'presidentelect trump has picked cantor fitzgerald ceo howard lutnick for secretary of the department of commerce'\n",
      " b'opinion  democrats cant buy anything like trumps genuine authenticity']\n",
      "Label batch sample: [0 1 0 1 1 0 0 0 0 0 1 1 1 0 0 1 1 0 0 1 0 1 1 0 0 0 1 0 1 0 1 0]\n"
     ]
    },
    {
     "name": "stderr",
     "output_type": "stream",
     "text": [
      "2024-12-09 19:26:23.071755: I tensorflow/core/framework/local_rendezvous.cc:405] Local rendezvous is aborting with status: OUT_OF_RANGE: End of sequence\n"
     ]
    }
   ],
   "source": [
    "print(\"Dataset shape:\", dataset.shape)\n",
    "print(\"Number of batches:\", len(tf_dataset))\n",
    "\n",
    "for text_batch, label_batch in tf_dataset.take(1):\n",
    "    print(\"Text batch sample:\", text_batch.numpy())\n",
    "    print(\"Label batch sample:\", label_batch.numpy())\n"
   ]
  },
  {
   "cell_type": "code",
   "execution_count": 5,
   "id": "209007f1-aaa4-4a3f-8bf2-47daaa84c489",
   "metadata": {},
   "outputs": [
    {
     "name": "stdout",
     "output_type": "stream",
     "text": [
      "label\n",
      "0    113\n",
      "1     85\n",
      "Name: count, dtype: int64\n"
     ]
    }
   ],
   "source": [
    "# Verify Labels: Double-check the label distribution to ensure balance:\n",
    "print(dataset['label'].value_counts())\n"
   ]
  },
  {
   "cell_type": "code",
   "execution_count": 6,
   "id": "29821f86-6e04-46db-8a11-0a14ba20d245",
   "metadata": {},
   "outputs": [],
   "source": [
    "# My dataset is pretty imbalanced which definitely causes my model to struggle\n",
    "\n",
    "# If I had more time, my next steps would be to oversample the minority class or using techniques like SMOTE."
   ]
  },
  {
   "cell_type": "code",
   "execution_count": 7,
   "id": "c1c10a63-48d9-4eae-95ae-96ab5220a151",
   "metadata": {},
   "outputs": [],
   "source": [
    "# Text Vectorization: Since TensorFlow operates on numeric data, I need to convert the text into a suitable numerical format (e.g., tokenization).\n",
    "\n",
    "from tensorflow.keras.layers import TextVectorization\n",
    "\n",
    "# Define TextVectorization layer\n",
    "max_features = 10000  # Vocabulary size\n",
    "sequence_length = 100  # Max sequence length\n",
    "vectorize_layer = TextVectorization(\n",
    "    max_tokens=max_features,\n",
    "    output_mode='int',\n",
    "    output_sequence_length=sequence_length\n",
    ")\n",
    "\n",
    "# Adapt the vectorization layer to the text data\n",
    "vectorize_layer.adapt(dataset['text'])\n",
    "\n",
    "# Apply the vectorization\n",
    "tf_dataset = tf_dataset.map(lambda x, y: (vectorize_layer(x), y)) # This step applies the vectorize_layer to all input text before training.\n"
   ]
  },
  {
   "cell_type": "code",
   "execution_count": 8,
   "id": "890d9a07-c880-42c8-aefe-7ae7b902fbe2",
   "metadata": {},
   "outputs": [],
   "source": [
    "# I did use a tokenizer during training, but instead of a traditional Tokenizer (e.g., from keras.preprocessing.text), \n",
    "# I used a TextVectorization layer as part of my preprocessing pipeline. This layer acts as the tokenizer in my workflow."
   ]
  },
  {
   "cell_type": "code",
   "execution_count": 54,
   "id": "336c31ba-b633-4f77-b4d8-43be68439bb2",
   "metadata": {},
   "outputs": [],
   "source": [
    "# Model Building: Build and compile my TensorFlow model:\n",
    "\n",
    "from tensorflow.keras import Sequential\n",
    "from tensorflow.keras.layers import Embedding, GlobalAveragePooling1D, Dense\n",
    "\n",
    "model_16 = Sequential([\n",
    "    #Embedding(input_dim=max_features, output_dim=16, input_length=sequence_length),\n",
    "    Embedding(input_dim=max_features, output_dim=16),\n",
    "    GlobalAveragePooling1D(),\n",
    "    Dense(16, activation='relu'),\n",
    "    Dense(1, activation='sigmoid')  # For binary classification\n",
    "])\n",
    "\n",
    "model_16.compile(optimizer='adam', loss='binary_crossentropy', metrics=['accuracy'])\n"
   ]
  },
  {
   "cell_type": "code",
   "execution_count": 56,
   "id": "432e57ae-0455-49e2-9bf4-06b3365b2c89",
   "metadata": {},
   "outputs": [
    {
     "name": "stdout",
     "output_type": "stream",
     "text": [
      "Epoch 1/10\n",
      "\u001b[1m7/7\u001b[0m \u001b[32m━━━━━━━━━━━━━━━━━━━━\u001b[0m\u001b[37m\u001b[0m \u001b[1m0s\u001b[0m 4ms/step - accuracy: 0.5560 - loss: 0.6913  \n",
      "Epoch 2/10\n",
      "\u001b[1m7/7\u001b[0m \u001b[32m━━━━━━━━━━━━━━━━━━━━\u001b[0m\u001b[37m\u001b[0m \u001b[1m0s\u001b[0m 4ms/step - accuracy: 0.5508 - loss: 0.6875 \n",
      "Epoch 3/10\n",
      "\u001b[1m7/7\u001b[0m \u001b[32m━━━━━━━━━━━━━━━━━━━━\u001b[0m\u001b[37m\u001b[0m \u001b[1m0s\u001b[0m 4ms/step - accuracy: 0.5572 - loss: 0.6853 \n",
      "Epoch 4/10\n",
      "\u001b[1m7/7\u001b[0m \u001b[32m━━━━━━━━━━━━━━━━━━━━\u001b[0m\u001b[37m\u001b[0m \u001b[1m0s\u001b[0m 4ms/step - accuracy: 0.5835 - loss: 0.6794 \n",
      "Epoch 5/10\n",
      "\u001b[1m7/7\u001b[0m \u001b[32m━━━━━━━━━━━━━━━━━━━━\u001b[0m\u001b[37m\u001b[0m \u001b[1m0s\u001b[0m 4ms/step - accuracy: 0.5762 - loss: 0.6808 \n",
      "Epoch 6/10\n",
      "\u001b[1m7/7\u001b[0m \u001b[32m━━━━━━━━━━━━━━━━━━━━\u001b[0m\u001b[37m\u001b[0m \u001b[1m0s\u001b[0m 3ms/step - accuracy: 0.5656 - loss: 0.6819 \n",
      "Epoch 7/10\n",
      "\u001b[1m7/7\u001b[0m \u001b[32m━━━━━━━━━━━━━━━━━━━━\u001b[0m\u001b[37m\u001b[0m \u001b[1m0s\u001b[0m 4ms/step - accuracy: 0.5602 - loss: 0.6826 \n",
      "Epoch 8/10\n",
      "\u001b[1m7/7\u001b[0m \u001b[32m━━━━━━━━━━━━━━━━━━━━\u001b[0m\u001b[37m\u001b[0m \u001b[1m0s\u001b[0m 3ms/step - accuracy: 0.5573 - loss: 0.6830 \n",
      "Epoch 9/10\n",
      "\u001b[1m7/7\u001b[0m \u001b[32m━━━━━━━━━━━━━━━━━━━━\u001b[0m\u001b[37m\u001b[0m \u001b[1m0s\u001b[0m 4ms/step - accuracy: 0.5679 - loss: 0.6784 \n",
      "Epoch 10/10\n",
      "\u001b[1m7/7\u001b[0m \u001b[32m━━━━━━━━━━━━━━━━━━━━\u001b[0m\u001b[37m\u001b[0m \u001b[1m0s\u001b[0m 4ms/step - accuracy: 0.5746 - loss: 0.6754 \n"
     ]
    },
    {
     "data": {
      "text/plain": [
       "<keras.src.callbacks.history.History at 0x3166acad0>"
      ]
     },
     "execution_count": 56,
     "metadata": {},
     "output_type": "execute_result"
    }
   ],
   "source": [
    "# Training: Train my model using the tf_dataset:\n",
    "\n",
    "model_16.fit(tf_dataset, epochs=10)"
   ]
  },
  {
   "cell_type": "code",
   "execution_count": 11,
   "id": "e7578434-ae37-4843-a442-7389650225ca",
   "metadata": {},
   "outputs": [],
   "source": [
    "# Conclusions from training\n",
    "\n",
    "# Accuracy:\n",
    "# My model's accuracy starts around 59% and fluctuates slightly during training, ending at ~58.8%.\n",
    "# Accuracy values around 50-60% suggest the model is not learning effectively or is struggling with the data.\n",
    "\n",
    "# Loss:\n",
    "# The loss metric starts at 0.6915 and reduces slightly to 0.6740 by the end of 10 epochs.\n",
    "# A high and stagnant loss value could indicate underfitting (the model is not learning enough to distinguish between the classes).\n",
    "\n",
    "# Fluctuations:\n",
    "# The accuracy and loss fluctuate significantly between epochs (e.g., dropping in some epochs and improving in others). This could point to:\n",
    "# 1) Data Issues: Noise or imbalance in my dataset.\n",
    "# 2) Model Simplicity: The model architecture might be too simple for the task.\n",
    "# 3) Batch Size: A small dataset with batch processing could introduce variability."
   ]
  },
  {
   "cell_type": "code",
   "execution_count": 12,
   "id": "68f1f652-8a92-448a-b08a-e82cae40edb0",
   "metadata": {},
   "outputs": [],
   "source": [
    "# Next Steps Below:\n",
    "\n",
    "# 1) Data Quality: Inspect the dataset for mislabeled data, redundancy, or incomplete preprocessing."
   ]
  },
  {
   "cell_type": "code",
   "execution_count": 13,
   "id": "22e2f1ba-6a1e-4e50-b548-262dfbdb7ad4",
   "metadata": {},
   "outputs": [],
   "source": [
    "# 2) Experimenting with Model Architecture\n",
    "# Add Layers: My model is very simple. Trying to add more layers or units:"
   ]
  },
  {
   "cell_type": "code",
   "execution_count": 14,
   "id": "3f35b9f0-0f69-46fc-9fba-d119411afe9e",
   "metadata": {},
   "outputs": [],
   "source": [
    "from tensorflow.keras.layers import Dropout\n",
    "\n",
    "model = Sequential([\n",
    "    Embedding(input_dim=max_features, output_dim=32),\n",
    "    GlobalAveragePooling1D(),\n",
    "    Dense(64, activation='relu'),\n",
    "    Dropout(0.5),\n",
    "    Dense(32, activation='relu'),\n",
    "    Dense(1, activation='sigmoid')  # Binary classification\n",
    "])\n",
    "model.compile(optimizer='adam', loss='binary_crossentropy', metrics=['accuracy'])\n"
   ]
  },
  {
   "cell_type": "code",
   "execution_count": 15,
   "id": "8304aceb-4a4b-4d8a-b493-e0c80f479bc6",
   "metadata": {},
   "outputs": [],
   "source": [
    "# 3) Experiment with Hyperparameters\n",
    "# Learning Rate: Adjust the learning rate for better optimization.\n",
    "\n",
    "from tensorflow.keras.optimizers import Adam\n",
    "\n",
    "model.compile(optimizer=Adam(learning_rate=0.001), loss='binary_crossentropy', metrics=['accuracy'])\n"
   ]
  },
  {
   "cell_type": "code",
   "execution_count": 16,
   "id": "008c5fc5-c1ec-42c1-9bcf-7ee46cab5759",
   "metadata": {},
   "outputs": [],
   "source": [
    "# 4) Batch Size: Experiment with batch sizes (e.g., 16, 64)."
   ]
  },
  {
   "cell_type": "code",
   "execution_count": 17,
   "id": "d2a12504-f825-4840-967d-25dc53616f86",
   "metadata": {},
   "outputs": [],
   "source": [
    "# 5) Use Pretrained Embeddings\n",
    "# Considered using pretrained embeddings like GloVe or Word2Vec for better text representations:\n",
    "\n",
    "#embedding_dim = 100\n",
    "#embeddings_index = {}\n",
    "#with open('glove.6B.100d.txt', 'r') as f:\n",
    "    #for line in f:\n",
    "        #values = line.split()\n",
    "        #word = values[0]\n",
    "       # coefs = np.asarray(values[1:], dtype='float32')\n",
    "        #embeddings_index[word] = coefs\n"
   ]
  },
  {
   "cell_type": "code",
   "execution_count": 18,
   "id": "9bf69401-3a8b-447f-b9ac-0ef41cdabd58",
   "metadata": {},
   "outputs": [],
   "source": [
    "# 6) Evaluate Model Performance\n",
    "# Use a validation split to monitor overfitting:\n",
    "\n",
    "# model.fit(tf_dataset, validation_split=0.2, epochs=10)"
   ]
  },
  {
   "cell_type": "code",
   "execution_count": 58,
   "id": "e0dc649e-2c90-4fed-b9db-b7b384425623",
   "metadata": {},
   "outputs": [
    {
     "name": "stdout",
     "output_type": "stream",
     "text": [
      "WARNING:tensorflow:5 out of the last 13 calls to <function TensorFlowTrainer.make_predict_function.<locals>.one_step_on_data_distributed at 0x3174b3ec0> triggered tf.function retracing. Tracing is expensive and the excessive number of tracings could be due to (1) creating @tf.function repeatedly in a loop, (2) passing tensors with different shapes, (3) passing Python objects instead of tensors. For (1), please define your @tf.function outside of the loop. For (2), @tf.function has reduce_retracing=True option that can avoid unnecessary retracing. For (3), please refer to https://www.tensorflow.org/guide/function#controlling_retracing and https://www.tensorflow.org/api_docs/python/tf/function for  more details.\n",
      "\u001b[1m7/7\u001b[0m \u001b[32m━━━━━━━━━━━━━━━━━━━━\u001b[0m\u001b[37m\u001b[0m \u001b[1m0s\u001b[0m 6ms/step  \n",
      "              precision    recall  f1-score   support\n",
      "\n",
      "           0       0.57      1.00      0.73       113\n",
      "           1       0.00      0.00      0.00        85\n",
      "\n",
      "    accuracy                           0.57       198\n",
      "   macro avg       0.29      0.50      0.36       198\n",
      "weighted avg       0.33      0.57      0.41       198\n",
      "\n"
     ]
    },
    {
     "name": "stderr",
     "output_type": "stream",
     "text": [
      "/opt/anaconda3/lib/python3.12/site-packages/sklearn/metrics/_classification.py:1509: UndefinedMetricWarning: Precision is ill-defined and being set to 0.0 in labels with no predicted samples. Use `zero_division` parameter to control this behavior.\n",
      "  _warn_prf(average, modifier, f\"{metric.capitalize()} is\", len(result))\n",
      "/opt/anaconda3/lib/python3.12/site-packages/sklearn/metrics/_classification.py:1509: UndefinedMetricWarning: Precision is ill-defined and being set to 0.0 in labels with no predicted samples. Use `zero_division` parameter to control this behavior.\n",
      "  _warn_prf(average, modifier, f\"{metric.capitalize()} is\", len(result))\n",
      "/opt/anaconda3/lib/python3.12/site-packages/sklearn/metrics/_classification.py:1509: UndefinedMetricWarning: Precision is ill-defined and being set to 0.0 in labels with no predicted samples. Use `zero_division` parameter to control this behavior.\n",
      "  _warn_prf(average, modifier, f\"{metric.capitalize()} is\", len(result))\n"
     ]
    }
   ],
   "source": [
    "# Evaluate using metrics like precision, recall, and F1-score:\n",
    "from sklearn.metrics import classification_report\n",
    "\n",
    "y_true = dataset['label']\n",
    "y_pred = (model.predict(tf_dataset).flatten() > 0.5).astype(int)\n",
    "y_pred = (y_pred > 0.5).astype(int)\n",
    "print(classification_report(y_true, y_pred))\n",
    "\n",
    "# classification_report uses NumPy arrays, but I am directly passing predictions (y_pred) on a TensorFlow dataset. Ensure that y_true and y_pred have matching dimensions and types.\n"
   ]
  },
  {
   "cell_type": "code",
   "execution_count": 20,
   "id": "51a45e41-dbd8-4788-afd1-684ca046f122",
   "metadata": {},
   "outputs": [],
   "source": [
    "# 7) Data Augmentation\n",
    "# I am limited by data size, so could apply text data augmentation techniques using libraries like NLPAug."
   ]
  },
  {
   "cell_type": "code",
   "execution_count": 21,
   "id": "afedfe29-179e-4466-893a-bf8fff827134",
   "metadata": {},
   "outputs": [
    {
     "name": "stdout",
     "output_type": "stream",
     "text": [
      "Epoch 1/20\n",
      "\u001b[1m7/7\u001b[0m \u001b[32m━━━━━━━━━━━━━━━━━━━━\u001b[0m\u001b[37m\u001b[0m \u001b[1m0s\u001b[0m 4ms/step - accuracy: 0.5126 - loss: 0.6929  \n",
      "Epoch 2/20\n",
      "\u001b[1m7/7\u001b[0m \u001b[32m━━━━━━━━━━━━━━━━━━━━\u001b[0m\u001b[37m\u001b[0m \u001b[1m0s\u001b[0m 5ms/step - accuracy: 0.6059 - loss: 0.6859 \n",
      "Epoch 3/20\n",
      "\u001b[1m7/7\u001b[0m \u001b[32m━━━━━━━━━━━━━━━━━━━━\u001b[0m\u001b[37m\u001b[0m \u001b[1m0s\u001b[0m 4ms/step - accuracy: 0.5840 - loss: 0.6853 \n",
      "Epoch 4/20\n",
      "\u001b[1m7/7\u001b[0m \u001b[32m━━━━━━━━━━━━━━━━━━━━\u001b[0m\u001b[37m\u001b[0m \u001b[1m0s\u001b[0m 4ms/step - accuracy: 0.5932 - loss: 0.6872 \n",
      "Epoch 5/20\n",
      "\u001b[1m7/7\u001b[0m \u001b[32m━━━━━━━━━━━━━━━━━━━━\u001b[0m\u001b[37m\u001b[0m \u001b[1m0s\u001b[0m 4ms/step - accuracy: 0.5683 - loss: 0.6807 \n",
      "Epoch 6/20\n",
      "\u001b[1m7/7\u001b[0m \u001b[32m━━━━━━━━━━━━━━━━━━━━\u001b[0m\u001b[37m\u001b[0m \u001b[1m0s\u001b[0m 4ms/step - accuracy: 0.5961 - loss: 0.6718 \n",
      "Epoch 7/20\n",
      "\u001b[1m7/7\u001b[0m \u001b[32m━━━━━━━━━━━━━━━━━━━━\u001b[0m\u001b[37m\u001b[0m \u001b[1m0s\u001b[0m 4ms/step - accuracy: 0.5649 - loss: 0.6832 \n",
      "Epoch 8/20\n",
      "\u001b[1m7/7\u001b[0m \u001b[32m━━━━━━━━━━━━━━━━━━━━\u001b[0m\u001b[37m\u001b[0m \u001b[1m0s\u001b[0m 4ms/step - accuracy: 0.5392 - loss: 0.6830 \n",
      "Epoch 9/20\n",
      "\u001b[1m7/7\u001b[0m \u001b[32m━━━━━━━━━━━━━━━━━━━━\u001b[0m\u001b[37m\u001b[0m \u001b[1m0s\u001b[0m 4ms/step - accuracy: 0.5507 - loss: 0.6875 \n",
      "Epoch 10/20\n",
      "\u001b[1m7/7\u001b[0m \u001b[32m━━━━━━━━━━━━━━━━━━━━\u001b[0m\u001b[37m\u001b[0m \u001b[1m0s\u001b[0m 4ms/step - accuracy: 0.5686 - loss: 0.6904 \n",
      "Epoch 11/20\n",
      "\u001b[1m7/7\u001b[0m \u001b[32m━━━━━━━━━━━━━━━━━━━━\u001b[0m\u001b[37m\u001b[0m \u001b[1m0s\u001b[0m 4ms/step - accuracy: 0.5883 - loss: 0.6759 \n",
      "Epoch 12/20\n",
      "\u001b[1m7/7\u001b[0m \u001b[32m━━━━━━━━━━━━━━━━━━━━\u001b[0m\u001b[37m\u001b[0m \u001b[1m0s\u001b[0m 4ms/step - accuracy: 0.5562 - loss: 0.6783 \n",
      "Epoch 13/20\n",
      "\u001b[1m7/7\u001b[0m \u001b[32m━━━━━━━━━━━━━━━━━━━━\u001b[0m\u001b[37m\u001b[0m \u001b[1m0s\u001b[0m 4ms/step - accuracy: 0.6000 - loss: 0.6864 \n",
      "Epoch 14/20\n",
      "\u001b[1m7/7\u001b[0m \u001b[32m━━━━━━━━━━━━━━━━━━━━\u001b[0m\u001b[37m\u001b[0m \u001b[1m0s\u001b[0m 4ms/step - accuracy: 0.5754 - loss: 0.6752 \n",
      "Epoch 15/20\n",
      "\u001b[1m7/7\u001b[0m \u001b[32m━━━━━━━━━━━━━━━━━━━━\u001b[0m\u001b[37m\u001b[0m \u001b[1m0s\u001b[0m 4ms/step - accuracy: 0.5869 - loss: 0.6762 \n",
      "Epoch 16/20\n",
      "\u001b[1m7/7\u001b[0m \u001b[32m━━━━━━━━━━━━━━━━━━━━\u001b[0m\u001b[37m\u001b[0m \u001b[1m0s\u001b[0m 4ms/step - accuracy: 0.6017 - loss: 0.6724 \n",
      "Epoch 17/20\n",
      "\u001b[1m7/7\u001b[0m \u001b[32m━━━━━━━━━━━━━━━━━━━━\u001b[0m\u001b[37m\u001b[0m \u001b[1m0s\u001b[0m 4ms/step - accuracy: 0.5368 - loss: 0.6947 \n",
      "Epoch 18/20\n",
      "\u001b[1m7/7\u001b[0m \u001b[32m━━━━━━━━━━━━━━━━━━━━\u001b[0m\u001b[37m\u001b[0m \u001b[1m0s\u001b[0m 4ms/step - accuracy: 0.5616 - loss: 0.6810 \n",
      "Epoch 19/20\n",
      "\u001b[1m7/7\u001b[0m \u001b[32m━━━━━━━━━━━━━━━━━━━━\u001b[0m\u001b[37m\u001b[0m \u001b[1m0s\u001b[0m 11ms/step - accuracy: 0.5553 - loss: 0.6789\n",
      "Epoch 20/20\n",
      "\u001b[1m7/7\u001b[0m \u001b[32m━━━━━━━━━━━━━━━━━━━━\u001b[0m\u001b[37m\u001b[0m \u001b[1m0s\u001b[0m 11ms/step - accuracy: 0.5725 - loss: 0.6777\n"
     ]
    },
    {
     "data": {
      "image/png": "[encoded data removed]",
      "text/plain": [
       "<Figure size 640x480 with 1 Axes>"
      ]
     },
     "metadata": {},
     "output_type": "display_data"
    }
   ],
   "source": [
    "# 8) Tune Training Parameters\n",
    "# Train for more epochs and monitor learning curves to identify underfitting or overfitting:\n",
    "\n",
    "history = model.fit(tf_dataset, epochs=20)\n",
    "plt.plot(history.history['accuracy'], label='Accuracy')\n",
    "plt.plot(history.history['loss'], label='Loss')\n",
    "plt.legend()\n",
    "plt.show()\n"
   ]
  },
  {
   "cell_type": "code",
   "execution_count": 22,
   "id": "3a5e502b-d2ff-4098-b5ca-83aec6a73679",
   "metadata": {},
   "outputs": [],
   "source": [
    "# DEPLOYMENT/TESTING"
   ]
  },
  {
   "cell_type": "code",
   "execution_count": 24,
   "id": "837b8e10-4d13-4ad7-95c9-106aede43e98",
   "metadata": {},
   "outputs": [],
   "source": [
    "# Save the model (includes the vectorization layer)\n",
    "model.save('my_model_with_vectorizer.keras')  # Or use '.h5'\n",
    "\n",
    "# Save the vectorizer separately if needed\n",
    "import pickle\n",
    "with open('vectorizer.pkl', 'wb') as f:\n",
    "    pickle.dump(vectorize_layer, f)\n"
   ]
  },
  {
   "cell_type": "code",
   "execution_count": 28,
   "id": "7f84875a-6061-4100-93b4-c6d70cf42bde",
   "metadata": {},
   "outputs": [],
   "source": [
    "\n",
    "# Load the model with the vectorization layer\n",
    "from tensorflow.keras.models import load_model\n",
    "model = load_model('my_model_with_vectorizer.keras')\n",
    "\n",
    "# OR load just the vectorizer if saved separately\n",
    "with open('vectorizer.pkl', 'rb') as f:\n",
    "    vectorize_layer = pickle.load(f)\n"
   ]
  },
  {
   "cell_type": "code",
   "execution_count": 68,
   "id": "c09ba5a8-96cf-4ede-8dfb-a38cba8371ca",
   "metadata": {},
   "outputs": [
    {
     "name": "stdout",
     "output_type": "stream",
     "text": [
      "\u001b[1m1/1\u001b[0m \u001b[32m━━━━━━━━━━━━━━━━━━━━\u001b[0m\u001b[37m\u001b[0m \u001b[1m0s\u001b[0m 25ms/step\n",
      "Prediction: [0] (Confidence: 0.43)\n"
     ]
    }
   ],
   "source": [
    "from tensorflow.keras.preprocessing.sequence import pad_sequences\n",
    "\n",
    "# Sample text for prediction\n",
    "sample_text = \"Election day is tomorrow! Don’t forget to vote.\"\n",
    "\n",
    "# Preprocess the sample text\n",
    "sample_text_processed = preprocess_text(sample_text)\n",
    "\n",
    "# Use the vectorize_layer to convert text into tokenized form (integer sequence)\n",
    "sample_sequence = vectorize_layer([sample_text_processed])  # directly call vectorize_layer on the processed text\n",
    "\n",
    "# Pad the sequence to ensure it has the correct length (as expected by the model)\n",
    "sample_padded = pad_sequences(sample_sequence, maxlen=sequence_length)\n",
    "\n",
    "# In the sample prediction section, I'm using both pad_sequences and the vectorize_layer. Padding isn't necessary if I'm using the TextVectorization layer with a fixed sequence length.\n",
    "\n",
    "# Predict using the model\n",
    "prediction = model.predict(sample_padded)\n",
    "\n",
    "# Get the predicted label (0 or 1 for binary classification)\n",
    "predicted_label = (prediction > 0.5).astype(int)\n",
    "\n",
    "# Print the prediction result\n",
    "print(f\"Prediction: {predicted_label[0]} (Confidence: {prediction[0][0]:.2f})\")\n"
   ]
  },
  {
   "cell_type": "code",
   "execution_count": null,
   "id": "ed6398bb-2bb6-47b9-a7ad-367b7219f625",
   "metadata": {},
   "outputs": [],
   "source": [
    "# I need to research the difference between these two methods:\n",
    "\n",
    "# texts_to_sequences is a method of the Tokenizer class from keras.preprocessing.text, but the TextVectorization layer \n",
    "# I'm using does not have that method.\n",
    "\n",
    "# The TextVectorization layer in TensorFlow processes the text directly during the model's training or prediction phase,\n",
    "# and it does not require manually calling a method like texts_to_sequences."
   ]
  },
  {
   "cell_type": "code",
   "execution_count": 62,
   "id": "2014632b-63cf-42b2-9366-d2f4fde4976d",
   "metadata": {},
   "outputs": [
    {
     "name": "stdout",
     "output_type": "stream",
     "text": [
      "\u001b[1m1/1\u001b[0m \u001b[32m━━━━━━━━━━━━━━━━━━━━\u001b[0m\u001b[37m\u001b[0m \u001b[1m0s\u001b[0m 25ms/step\n",
      "Text: 'Trump is the best president.'\n",
      "Prediction: [0] (Confidence: 0.43)\n",
      "Text: 'Don't forget to vote!'\n",
      "Prediction: [0] (Confidence: 0.43)\n",
      "Text: 'Election fraud is everywhere.'\n",
      "Prediction: [0] (Confidence: 0.43)\n"
     ]
    }
   ],
   "source": [
    "# b) Batch Prediction\n",
    "# For multiple inputs:\n",
    "\n",
    "# Texts for batch prediction\n",
    "texts = [\"Trump is the best president.\", \"Don't forget to vote!\", \"Election fraud is everywhere.\"]\n",
    "\n",
    "# Preprocess the texts\n",
    "multiple_processed_texts = [preprocess_text(text) for text in texts]\n",
    "\n",
    "# Use the vectorize_layer to convert the list of texts into tokenized form (integer sequence)\n",
    "batch_sample_sequence = vectorize_layer(multiple_processed_texts)  # Pass the list directly\n",
    "\n",
    "# Pad the sequences to ensure they have the correct length\n",
    "padded = pad_sequences(batch_sample_sequence, maxlen=sequence_length)\n",
    "\n",
    "# Predict using the model\n",
    "predictions = model.predict(padded)\n",
    "\n",
    "# Get the predicted labels (0 or 1 for binary classification)\n",
    "predicted_labels = (predictions > 0.5).astype(int)\n",
    "\n",
    "# Print the prediction result\n",
    "for i, t in enumerate(texts):\n",
    "    print(f\"Text: '{t}'\")\n",
    "    print(f\"Prediction: {predicted_labels[i]} (Confidence: {predictions[i][0]:.2f})\")"
   ]
  },
  {
   "cell_type": "code",
   "execution_count": 66,
   "id": "36d7b09f-8f9d-41ce-8c1d-699d50869dc3",
   "metadata": {},
   "outputs": [
    {
     "name": "stdout",
     "output_type": "stream",
     "text": [
      "[[   4   10    2 1398   28    0    0    0    0    0    0    0    0    0\n",
      "     0    0    0    0    0    0    0    0    0    0    0    0    0    0\n",
      "     0    0    0    0    0    0    0    0    0    0    0    0    0    0\n",
      "     0    0    0    0    0    0    0    0    0    0    0    0    0    0\n",
      "     0    0    0    0    0    0    0    0    0    0    0    0    0    0\n",
      "     0    0    0    0    0    0    0    0    0    0    0    0    0    0\n",
      "     0    0    0    0    0    0    0    0    0    0    0    0    0    0\n",
      "     0    0]\n",
      " [ 239    1    3   18    0    0    0    0    0    0    0    0    0    0\n",
      "     0    0    0    0    0    0    0    0    0    0    0    0    0    0\n",
      "     0    0    0    0    0    0    0    0    0    0    0    0    0    0\n",
      "     0    0    0    0    0    0    0    0    0    0    0    0    0    0\n",
      "     0    0    0    0    0    0    0    0    0    0    0    0    0    0\n",
      "     0    0    0    0    0    0    0    0    0    0    0    0    0    0\n",
      "     0    0    0    0    0    0    0    0    0    0    0    0    0    0\n",
      "     0    0]\n",
      " [  16    1   10    1    0    0    0    0    0    0    0    0    0    0\n",
      "     0    0    0    0    0    0    0    0    0    0    0    0    0    0\n",
      "     0    0    0    0    0    0    0    0    0    0    0    0    0    0\n",
      "     0    0    0    0    0    0    0    0    0    0    0    0    0    0\n",
      "     0    0    0    0    0    0    0    0    0    0    0    0    0    0\n",
      "     0    0    0    0    0    0    0    0    0    0    0    0    0    0\n",
      "     0    0    0    0    0    0    0    0    0    0    0    0    0    0\n",
      "     0    0]]\n",
      "[[   4   10    2 1398   28    0    0    0    0    0    0    0    0    0\n",
      "     0    0    0    0    0    0    0    0    0    0    0    0    0    0\n",
      "     0    0    0    0    0    0    0    0    0    0    0    0    0    0\n",
      "     0    0    0    0    0    0    0    0    0    0    0    0    0    0\n",
      "     0    0    0    0    0    0    0    0    0    0    0    0    0    0\n",
      "     0    0    0    0    0    0    0    0    0    0    0    0    0    0\n",
      "     0    0    0    0    0    0    0    0    0    0    0    0    0    0\n",
      "     0    0]\n",
      " [ 239    1    3   18    0    0    0    0    0    0    0    0    0    0\n",
      "     0    0    0    0    0    0    0    0    0    0    0    0    0    0\n",
      "     0    0    0    0    0    0    0    0    0    0    0    0    0    0\n",
      "     0    0    0    0    0    0    0    0    0    0    0    0    0    0\n",
      "     0    0    0    0    0    0    0    0    0    0    0    0    0    0\n",
      "     0    0    0    0    0    0    0    0    0    0    0    0    0    0\n",
      "     0    0    0    0    0    0    0    0    0    0    0    0    0    0\n",
      "     0    0]\n",
      " [  16    1   10    1    0    0    0    0    0    0    0    0    0    0\n",
      "     0    0    0    0    0    0    0    0    0    0    0    0    0    0\n",
      "     0    0    0    0    0    0    0    0    0    0    0    0    0    0\n",
      "     0    0    0    0    0    0    0    0    0    0    0    0    0    0\n",
      "     0    0    0    0    0    0    0    0    0    0    0    0    0    0\n",
      "     0    0    0    0    0    0    0    0    0    0    0    0    0    0\n",
      "     0    0    0    0    0    0    0    0    0    0    0    0    0    0\n",
      "     0    0]]\n"
     ]
    }
   ],
   "source": [
    "# Batch Prediction Issue\n",
    "# All predictions in my batch loop show the same result, so I need to confirm the following:\n",
    "\n",
    "#Model Input Consistency: Ensure vectorize_layer and model are applied correctly.\n",
    "#Mapping Issue: If padded or batch_sample_sequence is not correctly generated, the model may receive identical input for all texts.\n",
    "#Solution: Print the vectorized and padded sequences for the input texts:\n",
    "\n",
    "print(batch_sample_sequence.numpy())\n",
    "print(padded)\n"
   ]
  }
 ],
 "metadata": {
  "kernelspec": {
   "display_name": "Python 3 (ipykernel)",
   "language": "python",
   "name": "python3"
  },
  "language_info": {
   "codemirror_mode": {
    "name": "ipython",
    "version": 3
   },
   "file_extension": ".py",
   "mimetype": "text/x-python",
   "name": "python",
   "nbconvert_exporter": "python",
   "pygments_lexer": "ipython3",
   "version": "3.12.4"
  }
 },
 "nbformat": 4,
 "nbformat_minor": 5
}
